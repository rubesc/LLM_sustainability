{
 "cells": [
  {
   "cell_type": "markdown",
   "metadata": {},
   "source": [
    "# Substainability with LLM\n",
    "\n",
    "For my final project, I would like to create a generative tool, powered by LLM, that takes one or more user inputs and returns them a prompt that helps inspire them to be more sustainable. The prompts might be actionable, educational, and/ or meditative. This tool will be built locally and shared on GitHub.  \n",
    "\n",
    "While the key focus of this project will be creating the code, I will also be interested in analyzing potential bias and hallucination. The key LLM interest of this project is more on exploring the interaction of digital/ technical approaches of “LLM” and how that may be applied to the humanities subject of “sustainability”. "
   ]
  },
  {
   "cell_type": "markdown",
   "metadata": {
    "id": "_BYxyXHbJnej"
   },
   "source": [
    "### Import libraries"
   ]
  },
  {
   "cell_type": "code",
   "execution_count": 3,
   "metadata": {
    "id": "EdF3RXTspACf"
   },
   "outputs": [],
   "source": [
    "# pip install tiktoken\n",
    "# pip install cohere\n",
    "# pip install openai"
   ]
  },
  {
   "cell_type": "code",
   "execution_count": 3,
   "metadata": {
    "id": "P82O7yLeCqw1"
   },
   "outputs": [],
   "source": [
    "import openai\n",
    "from config import CHATGPT_API_KEY\n"
   ]
  },
  {
   "cell_type": "markdown",
   "metadata": {
    "id": "fFPgzcpeJqcH"
   },
   "source": [
    "### ChatGPT Prompt\n",
    "(prompt eng is done in ChatGPT interface + Playground)\n"
   ]
  },
  {
   "cell_type": "code",
   "execution_count": 7,
   "metadata": {
    "id": "pHjf3z3yDZjO"
   },
   "outputs": [],
   "source": [
    "prompt = \"\"\"\n",
    "\n",
    "Act as a climate justice activist/ expert ###\n",
    "\n",
    "- Please generate 5 actionable sustainable initiatives and organizations for someone based in NYC.\n",
    "- The prompt should be less than 100 words long in length.\n",
    "- Please write it in a tone that is solution-driven and positive tone while acknowledging the severity of the problem we are solving for.\n",
    "- Ensure prompt offers , meditative or actionable insights for environmental justice, and sustainable development.\n",
    "- Ensure to include ideas that are national wide or global program with activations in the location.\n",
    "- Call out which exact problem this help address.\n",
    "- Word it in a way that speaks directly about the specific action and corresponding issue\n",
    "- Organise information with: title (actionable and precise), URL, summary of what to expect, effort, impact, other considerations\n",
    "- please start with a sentence or two about the key sustainable issues and themes experienced in the region , and high level driver.\n",
    "- please end with a paragraph that cites a source (with specific named example of organization or program) or where the recommendations were derived from.\n",
    "- Put this in Github flavor markdown\n",
    "\n",
    "\"\"\""
   ]
  },
  {
   "cell_type": "code",
   "execution_count": 8,
   "metadata": {
    "id": "EFdtiN4QMEMI"
   },
   "outputs": [],
   "source": [
    "# - Reference Examples should include (for a location like NYC), green roof, switching energy bill to use clean energy, city-wide compost program, the billion-oyster project, etc.\n",
    "# - put this in a table with the following columns, order by “effort” ascendingly, then “impact” descendingly:\n",
    "# - title, please keep it short and concise on what exactly would the person be doing, For example: “Help plant oysters to improve water quality”, “Contribute to biodiversity database with iNaturist app on your walks”, “Change your electronic source from coal to renewable energy with your energy provider”\n",
    "# -initiative/ program/ organization name with URL, if it’s something that can be done without a program (something you can do at home yourself), then just write “n/a”\n",
    "# - expected effort (low/mid/high, what type – skill, time, etc.)\n",
    "# - Expected impact (low/mid/high, and for who)\n",
    "# - Considerations (e.g. accessibility, seasonality, etc.)\n",
    "# impact column (low/mid/high, and for who), and - UN Sustainable Development Goals"
   ]
  },
  {
   "cell_type": "markdown",
   "metadata": {
    "id": "vGViNDWIJtgb"
   },
   "source": [
    "### Generate results from ChatGPT API"
   ]
  },
  {
   "cell_type": "code",
   "execution_count": 13,
   "metadata": {
    "id": "mhrNBT20CmBI"
   },
   "outputs": [],
   "source": [
    "from openai import OpenAI\n",
    "\n",
    "client = OpenAI(\n",
    "    # defaults to os.environ.get(\"OPENAI_API_KEY\")\n",
    "    # api_key=\"private\",\n",
    "    api_key = CHATGPT_API_KEY\n",
    ")\n",
    "\n",
    "def chat_gpt(prompt):\n",
    "    response = client.chat.completions.create(\n",
    "        model=\"gpt-3.5-turbo\",\n",
    "        messages=[{\"role\": \"user\",\n",
    "                   \"content\": prompt}],\n",
    "        max_tokens=3000,\n",
    "        temperature=0.5,\n",
    "    )\n",
    "    return response.choices[0].message.content.strip()"
   ]
  },
  {
   "cell_type": "code",
   "execution_count": 14,
   "metadata": {
    "colab": {
     "base_uri": "https://localhost:8080/"
    },
    "id": "EHl7j91CD1Ka",
    "outputId": "b20f99ed-b076-4103-acee-9be88e2568e9"
   },
   "outputs": [
    {
     "name": "stdout",
     "output_type": "stream",
     "text": [
      "CPU times: user 18.9 ms, sys: 3.63 ms, total: 22.6 ms\n",
      "Wall time: 25.4 s\n"
     ]
    }
   ],
   "source": [
    "%%time\n",
    " prompt_output = chat_gpt(prompt)"
   ]
  },
  {
   "cell_type": "code",
   "execution_count": 15,
   "metadata": {
    "colab": {
     "base_uri": "https://localhost:8080/",
     "height": 1000
    },
    "id": "GM-8Al6DKzii",
    "outputId": "043c3da7-5d6b-45b4-ebb9-65e75231338d"
   },
   "outputs": [
    {
     "data": {
      "text/plain": [
       "'**Key Sustainable Issues and Themes in NYC:**\\nNew York City faces a multitude of sustainable issues and themes, including air pollution, waste management, and the need for renewable energy sources. The high population density and urban environment exacerbate these challenges, making it crucial for individuals and organizations to take action towards a more sustainable future.\\n\\n**1. Initiative: NYC Compost Project**\\n- URL: [https://www.nycgovparks.org/greening/nature-preserves/nyc-compost-project](https://www.nycgovparks.org/greening/nature-preserves/nyc-compost-project)\\n- Summary: The NYC Compost Project offers free composting workshops, educational programs, and resources to help residents and businesses reduce waste and create nutrient-rich compost. By diverting organic waste from landfills, this initiative addresses the issue of waste management and promotes a circular economy.\\n- Effort: Attend workshops and actively participate in composting practices.\\n- Impact: Reduces greenhouse gas emissions from decomposing organic waste in landfills and creates a valuable resource for soil health.\\n\\n**2. Organization: Sustainable South Bronx**\\n- URL: [https://www.ssbx.org/](https://www.ssbx.org/)\\n- Summary: Sustainable South Bronx focuses on environmental justice and sustainable development in the South Bronx community. They offer programs and initiatives that address air quality, green infrastructure, and job training in the green economy. By empowering the local community, they tackle the issue of environmental inequality and promote sustainable practices.\\n- Effort: Volunteer, participate in workshops, and support their initiatives.\\n- Impact: Improves air quality, provides green job opportunities, and promotes environmental justice in an underserved community.\\n\\n**3. Initiative: NYC CoolRoofs**\\n- URL: [https://www1.nyc.gov/site/hpd/services-and-information/cool-roofs.page](https://www1.nyc.gov/site/hpd/services-and-information/cool-roofs.page)\\n- Summary: NYC CoolRoofs is a program that applies reflective coating to rooftops, reducing energy consumption and mitigating the urban heat island effect. By addressing the lack of energy-efficient buildings, this initiative helps combat climate change and promotes energy conservation.\\n- Effort: Volunteer for rooftop coating events or advocate for cool roofs in your community.\\n- Impact: Lowers energy consumption, decreases urban heat island effect, and reduces greenhouse gas emissions.\\n\\n**4. Organization: The Climate Museum**\\n- URL: [https://www.climate.museum/](https://www.climate.museum/)\\n- Summary: The Climate Museum is a space dedicated to engaging the public in climate change conversations through art, science, and dialogue. Through exhibitions, events, and educational programs, they raise awareness and inspire action. By promoting climate literacy and fostering a sense of urgency, this organization addresses the need for public engagement in climate justice.\\n- Effort: Attend exhibitions, participate in events, and support their initiatives.\\n- Impact: Increases climate awareness, encourages dialogue, and inspires climate action.\\n\\n**5. Initiative: NYC Solarize**\\n- URL: [https://www.nycsolarize.com/](https://www.nycsolarize.com/)\\n- Summary: NYC Solarize is a program that simplifies the process of installing solar panels for residents and businesses. By increasing access to renewable energy, this initiative tackles the issue of transitioning to clean energy sources and reducing dependence on fossil fuels.\\n- Effort: Explore solar panel installation options and participate in community solar projects.\\n- Impact: Increases renewable energy adoption, reduces reliance on fossil fuels, and lowers carbon emissions.\\n\\nThese initiatives and organizations are derived from various sources, including the official websites of the respective programs and organizations, as well as recommendations from sustainability experts and climate justice activists in the NYC area. One such example is Sustainable South Bronx, which has been recognized for its efforts in environmental justice and sustainable development by organizations like the Environmental Protection Agency (EPA) and the United Nations.'"
      ]
     },
     "execution_count": 15,
     "metadata": {},
     "output_type": "execute_result"
    }
   ],
   "source": [
    "prompt_output"
   ]
  },
  {
   "cell_type": "markdown",
   "metadata": {
    "id": "RCdqe6Fkq3af"
   },
   "source": [
    "# TODO\n",
    "- play with temp\n",
    "- try connecting to a website (?)\n",
    "- Better formatting"
   ]
  },
  {
   "cell_type": "markdown",
   "metadata": {
    "id": "wM71P882D3jb"
   },
   "source": []
  }
 ],
 "metadata": {
  "colab": {
   "provenance": []
  },
  "kernelspec": {
   "display_name": "Python 3",
   "language": "python",
   "name": "python3"
  },
  "language_info": {
   "codemirror_mode": {
    "name": "ipython",
    "version": 3
   },
   "file_extension": ".py",
   "mimetype": "text/x-python",
   "name": "python",
   "nbconvert_exporter": "python",
   "pygments_lexer": "ipython3",
   "version": "3.7.7"
  }
 },
 "nbformat": 4,
 "nbformat_minor": 1
}
